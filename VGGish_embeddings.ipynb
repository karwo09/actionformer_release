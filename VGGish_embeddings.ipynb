{
 "cells": [
  {
   "cell_type": "code",
   "execution_count": 1,
   "metadata": {},
   "outputs": [],
   "source": [
    "import numpy as np"
   ]
  },
  {
   "cell_type": "code",
   "execution_count": 2,
   "metadata": {},
   "outputs": [],
   "source": [
    "import numpy as np\n",
    "csv = np.genfromtxt ('/home/karolwojtulewicz/code/actionformer_release/data/thumos/i3d_features/video_validation_0000990.csv', delimiter=\",\")"
   ]
  },
  {
   "cell_type": "code",
   "execution_count": 3,
   "metadata": {},
   "outputs": [
    {
     "name": "stdout",
     "output_type": "stream",
     "text": [
      "[[ 0.04886204 -0.01927775  0.22104566 ...  0.30504066  0.22792955\n",
      "  -0.27874196]\n",
      " [ 0.18716142  0.0070596   0.21008274 ...  0.38372731  0.21699336\n",
      "  -0.23090628]\n",
      " [ 0.05456129 -0.00328183  0.11310458 ...  0.40444246  0.18237475\n",
      "  -0.29214287]\n",
      " ...\n",
      " [-0.06718811  0.10002409 -0.00936732 ...  1.03773379  0.46963286\n",
      "   0.04757181]\n",
      " [-0.3077738   0.03399974 -0.13830689 ...  0.72232997  0.50687474\n",
      "  -0.09780473]\n",
      " [-0.25627449  0.1588648  -0.00103945 ...  0.71582234  0.5167504\n",
      "  -0.26793349]]\n"
     ]
    }
   ],
   "source": [
    "print(csv)"
   ]
  },
  {
   "cell_type": "code",
   "execution_count": 4,
   "metadata": {},
   "outputs": [
    {
     "name": "stdout",
     "output_type": "stream",
     "text": [
      "(1960, 128)\n"
     ]
    }
   ],
   "source": [
    "print(csv.shape)"
   ]
  },
  {
   "cell_type": "code",
   "execution_count": null,
   "metadata": {},
   "outputs": [],
   "source": []
  }
 ],
 "metadata": {
  "kernelspec": {
   "display_name": "aformer",
   "language": "python",
   "name": "python3"
  },
  "language_info": {
   "codemirror_mode": {
    "name": "ipython",
    "version": 3
   },
   "file_extension": ".py",
   "mimetype": "text/x-python",
   "name": "python",
   "nbconvert_exporter": "python",
   "pygments_lexer": "ipython3",
   "version": "3.10.0"
  },
  "orig_nbformat": 4
 },
 "nbformat": 4,
 "nbformat_minor": 2
}
